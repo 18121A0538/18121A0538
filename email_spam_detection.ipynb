{
 "cells": [
  {
   "cell_type": "code",
   "execution_count": 1,
   "metadata": {
    "colab": {
     "base_uri": "https://localhost:8080/",
     "height": 202
    },
    "colab_type": "code",
    "id": "Qe4Pm-B0xFXw",
    "outputId": "30adb98e-47f6-4d64-ff7f-c286aebf4061"
   },
   "outputs": [
    {
     "data": {
      "text/html": [
       "<div>\n",
       "<style scoped>\n",
       "    .dataframe tbody tr th:only-of-type {\n",
       "        vertical-align: middle;\n",
       "    }\n",
       "\n",
       "    .dataframe tbody tr th {\n",
       "        vertical-align: top;\n",
       "    }\n",
       "\n",
       "    .dataframe thead th {\n",
       "        text-align: right;\n",
       "    }\n",
       "</style>\n",
       "<table border=\"1\" class=\"dataframe\">\n",
       "  <thead>\n",
       "    <tr style=\"text-align: right;\">\n",
       "      <th></th>\n",
       "      <th>Unnamed: 0</th>\n",
       "      <th>label</th>\n",
       "      <th>text</th>\n",
       "      <th>label_num</th>\n",
       "    </tr>\n",
       "  </thead>\n",
       "  <tbody>\n",
       "    <tr>\n",
       "      <th>0</th>\n",
       "      <td>605</td>\n",
       "      <td>ham</td>\n",
       "      <td>Subject: enron methanol ; meter # : 988291\\r\\n...</td>\n",
       "      <td>0</td>\n",
       "    </tr>\n",
       "    <tr>\n",
       "      <th>1</th>\n",
       "      <td>2349</td>\n",
       "      <td>ham</td>\n",
       "      <td>Subject: hpl nom for january 9 , 2001\\r\\n( see...</td>\n",
       "      <td>0</td>\n",
       "    </tr>\n",
       "    <tr>\n",
       "      <th>2</th>\n",
       "      <td>3624</td>\n",
       "      <td>ham</td>\n",
       "      <td>Subject: neon retreat\\r\\nho ho ho , we ' re ar...</td>\n",
       "      <td>0</td>\n",
       "    </tr>\n",
       "    <tr>\n",
       "      <th>3</th>\n",
       "      <td>4685</td>\n",
       "      <td>spam</td>\n",
       "      <td>Subject: photoshop , windows , office . cheap ...</td>\n",
       "      <td>1</td>\n",
       "    </tr>\n",
       "    <tr>\n",
       "      <th>4</th>\n",
       "      <td>2030</td>\n",
       "      <td>ham</td>\n",
       "      <td>Subject: re : indian springs\\r\\nthis deal is t...</td>\n",
       "      <td>0</td>\n",
       "    </tr>\n",
       "  </tbody>\n",
       "</table>\n",
       "</div>"
      ],
      "text/plain": [
       "   Unnamed: 0 label                                               text  \\\n",
       "0         605   ham  Subject: enron methanol ; meter # : 988291\\r\\n...   \n",
       "1        2349   ham  Subject: hpl nom for january 9 , 2001\\r\\n( see...   \n",
       "2        3624   ham  Subject: neon retreat\\r\\nho ho ho , we ' re ar...   \n",
       "3        4685  spam  Subject: photoshop , windows , office . cheap ...   \n",
       "4        2030   ham  Subject: re : indian springs\\r\\nthis deal is t...   \n",
       "\n",
       "   label_num  \n",
       "0          0  \n",
       "1          0  \n",
       "2          0  \n",
       "3          1  \n",
       "4          0  "
      ]
     },
     "execution_count": 1,
     "metadata": {},
     "output_type": "execute_result"
    }
   ],
   "source": [
    "import numpy as np\n",
    "import pandas as pd\n",
    "import nltk\n",
    "from nltk.corpus import stopwords\n",
    "import string\n",
    "\n",
    "df = pd.read_csv(\"email_dataset.csv\")\n",
    "df.head()"
   ]
  },
  {
   "cell_type": "code",
   "execution_count": 2,
   "metadata": {
    "colab": {
     "base_uri": "https://localhost:8080/",
     "height": 35
    },
    "colab_type": "code",
    "id": "KVcEv06qzDFm",
    "outputId": "2d5cf54d-1603-4f4d-8be8-fdec88b3032b"
   },
   "outputs": [
    {
     "data": {
      "text/plain": [
       "(5171, 4)"
      ]
     },
     "execution_count": 2,
     "metadata": {},
     "output_type": "execute_result"
    }
   ],
   "source": [
    "df.shape"
   ]
  },
  {
   "cell_type": "code",
   "execution_count": 3,
   "metadata": {
    "colab": {
     "base_uri": "https://localhost:8080/",
     "height": 35
    },
    "colab_type": "code",
    "id": "1o0Yf-lRzJcj",
    "outputId": "588b96fd-338e-4345-e492-df5272cab22f"
   },
   "outputs": [
    {
     "data": {
      "text/plain": [
       "Index(['Unnamed: 0', 'label', 'text', 'label_num'], dtype='object')"
      ]
     },
     "execution_count": 3,
     "metadata": {},
     "output_type": "execute_result"
    }
   ],
   "source": [
    "df.columns"
   ]
  },
  {
   "cell_type": "code",
   "execution_count": 4,
   "metadata": {
    "colab": {
     "base_uri": "https://localhost:8080/",
     "height": 35
    },
    "colab_type": "code",
    "id": "YzKPCNMPzN3a",
    "outputId": "372502bd-ca17-4b7d-cba1-08e8b51eeef0"
   },
   "outputs": [
    {
     "name": "stdout",
     "output_type": "stream",
     "text": [
      "(5171, 4)\n"
     ]
    }
   ],
   "source": [
    "df.drop_duplicates(inplace=True)\n",
    "print(df.shape)"
   ]
  },
  {
   "cell_type": "code",
   "execution_count": 5,
   "metadata": {
    "colab": {
     "base_uri": "https://localhost:8080/",
     "height": 69
    },
    "colab_type": "code",
    "id": "Ykc4ViWszUiY",
    "outputId": "073c8f6c-dd2b-43d9-a2fd-06cd893f5dfe"
   },
   "outputs": [
    {
     "name": "stdout",
     "output_type": "stream",
     "text": [
      "Unnamed: 0    0\n",
      "label         0\n",
      "text          0\n",
      "label_num     0\n",
      "dtype: int64\n"
     ]
    }
   ],
   "source": [
    "# to show the number of missing data\n",
    "print(df.isnull().sum())"
   ]
  },
  {
   "cell_type": "code",
   "execution_count": 6,
   "metadata": {},
   "outputs": [
    {
     "data": {
      "image/png": "[encoded data removed]",
      "text/plain": [
       "<Figure size 432x288 with 1 Axes>"
      ]
     },
     "metadata": {
      "needs_background": "light"
     },
     "output_type": "display_data"
    }
   ],
   "source": [
    "import matplotlib.pyplot as plt\n",
    "%matplotlib inline\n",
    "\n",
    "plt.xscale('log')\n",
    "bins = 1.5**(np.arange(0,15))\n",
    "plt.hist(df[df['label']=='ham']['label_num'],bins=bins,alpha=0.8)\n",
    "plt.hist(df[df['label']=='spam']['label_num'],bins=bins,alpha=0.8)\n",
    "plt.legend(('ham','spam'))\n",
    "plt.show()"
   ]
  },
  {
   "cell_type": "code",
   "execution_count": 7,
   "metadata": {
    "colab": {
     "base_uri": "https://localhost:8080/",
     "height": 69
    },
    "colab_type": "code",
    "id": "lYKSOHG7zZF4",
    "outputId": "2374f457-78f8-4094-ee4f-b1490a370640"
   },
   "outputs": [],
   "source": [
    "# download the stopwords package\n",
    "#nltk.download(\"stopwords\")"
   ]
  },
  {
   "cell_type": "code",
   "execution_count": 8,
   "metadata": {
    "colab": {
     "base_uri": "https://localhost:8080/",
     "height": 121
    },
    "colab_type": "code",
    "id": "BG28L6sozfj8",
    "outputId": "0d4f392e-703d-44c0-f82c-f27a0fd518b3"
   },
   "outputs": [
    {
     "data": {
      "text/plain": [
       "0    [Subject, enron, methanol, meter, 988291, foll...\n",
       "1    [Subject, hpl, nom, january, 9, 2001, see, att...\n",
       "2    [Subject, neon, retreat, ho, ho, ho, around, w...\n",
       "3    [Subject, photoshop, windows, office, cheap, m...\n",
       "4    [Subject, indian, springs, deal, book, teco, p...\n",
       "Name: text, dtype: object"
      ]
     },
     "execution_count": 8,
     "metadata": {},
     "output_type": "execute_result"
    }
   ],
   "source": [
    "def process(text):\n",
    "    nopunc = [char for char in text if char not in string.punctuation]\n",
    "    nopunc = ''.join(nopunc)\n",
    "\n",
    "    clean = [word for word in nopunc.split() if word.lower() not in stopwords.words('english')]\n",
    "    return clean\n",
    "# to show the tokenization\n",
    "df['text'].head().apply(process)"
   ]
  },
  {
   "cell_type": "code",
   "execution_count": 9,
   "metadata": {},
   "outputs": [],
   "source": [
    "x = df['text']  \n",
    "y = df['label_num']"
   ]
  },
  {
   "cell_type": "code",
   "execution_count": 10,
   "metadata": {
    "colab": {},
    "colab_type": "code",
    "id": "aVxl1fQEzkmw"
   },
   "outputs": [],
   "source": [
    "from sklearn.feature_extraction.text import CountVectorizer\n",
    "message = CountVectorizer(stop_words=\"english\").fit_transform(x)"
   ]
  },
  {
   "cell_type": "code",
   "execution_count": 11,
   "metadata": {
    "colab": {
     "base_uri": "https://localhost:8080/",
     "height": 35
    },
    "colab_type": "code",
    "id": "b9pFewDdzub-",
    "outputId": "e54650fb-f52e-4ce3-86c1-9d75e896b6bd"
   },
   "outputs": [
    {
     "name": "stdout",
     "output_type": "stream",
     "text": [
      "(5171, 50140)\n",
      "----------------\n",
      "(4136, 50140)\n",
      "----------------\n",
      "(4136,)\n"
     ]
    }
   ],
   "source": [
    "#split the data into 80% training and 20% testing\n",
    "from sklearn.model_selection import train_test_split\n",
    "xtrain, xtest, ytrain, ytest = train_test_split(message, y, test_size=0.2, random_state=0)\n",
    "print(message.shape)\n",
    "print(\"----------------\")\n",
    "print(xtrain.shape)\n",
    "print(\"----------------\")\n",
    "print(ytrain.shape)"
   ]
  },
  {
   "cell_type": "code",
   "execution_count": 12,
   "metadata": {
    "colab": {},
    "colab_type": "code",
    "id": "X2trGjLI0Q4d"
   },
   "outputs": [],
   "source": [
    "#ALGORITHM-1 : MULTI-NAIVE BAYES CLASSIFIER\n",
    "# create and train the Naive Bayes Classifier\n",
    "from sklearn.naive_bayes import MultinomialNB\n",
    "mb = MultinomialNB().fit(xtrain, ytrain)"
   ]
  },
  {
   "cell_type": "code",
   "execution_count": 13,
   "metadata": {
    "colab": {
     "base_uri": "https://localhost:8080/",
     "height": 52
    },
    "colab_type": "code",
    "id": "-5ALJICq1rmO",
    "outputId": "5109c3f8-fd58-4782-906d-329183f6c22e"
   },
   "outputs": [
    {
     "name": "stdout",
     "output_type": "stream",
     "text": [
      "[0 0 0 ... 0 1 0]\n",
      "[0 0 0 ... 0 1 0]\n"
     ]
    }
   ],
   "source": [
    "#print the predictions\n",
    "pred1 = mb.predict(xtest)\n",
    "print(pred1)\n",
    "#print the actual values\n",
    "pred1_y=ytest.values\n",
    "print(pred1_y)"
   ]
  },
  {
   "cell_type": "code",
   "execution_count": 14,
   "metadata": {
    "colab": {
     "base_uri": "https://localhost:8080/",
     "height": 277
    },
    "colab_type": "code",
    "id": "J0InRf8K20h5",
    "outputId": "64c14ad9-0ce9-4558-8317-44c78dbb0669"
   },
   "outputs": [
    {
     "name": "stdout",
     "output_type": "stream",
     "text": [
      "              precision    recall  f1-score   support\n",
      "\n",
      "           0       0.98      0.98      0.98       732\n",
      "           1       0.96      0.95      0.95       303\n",
      "\n",
      "    accuracy                           0.97      1035\n",
      "   macro avg       0.97      0.96      0.97      1035\n",
      "weighted avg       0.97      0.97      0.97      1035\n",
      "\n",
      "\n",
      "Confusion Matrix 1: \n",
      " [[719  13]\n",
      " [ 16 287]]\n",
      "Accuracy 1: \n",
      " 97.19806763285024\n"
     ]
    }
   ],
   "source": [
    "# Evaluating the model on the testing data set--->MB Classifier\n",
    "from sklearn.metrics import classification_report, confusion_matrix, accuracy_score\n",
    "print(classification_report(ytest, pred1))\n",
    "print()\n",
    "cm1=confusion_matrix(ytest, pred1)\n",
    "print(\"Confusion Matrix 1: \\n\", cm1)\n",
    "ac1=accuracy_score(ytest, pred1)*100\n",
    "print(\"Accuracy 1: \\n\",ac1)"
   ]
  },
  {
   "cell_type": "code",
   "execution_count": 15,
   "metadata": {},
   "outputs": [],
   "source": [
    "#ALGORITHM-2 : XGBOOST CLASSIFIER\n",
    "# create and train the XGB Classifier\n",
    "from xgboost import XGBRegressor\n",
    "xgb = XGBRegressor(objective ='reg:squarederror', colsample_bytree = 0.3,\n",
    "                   learning_rate = 0.1,max_depth = 5, \n",
    "                   alpha = 10, n_estimators = 10).fit(xtrain,ytrain)"
   ]
  },
  {
   "cell_type": "code",
   "execution_count": 16,
   "metadata": {},
   "outputs": [
    {
     "name": "stdout",
     "output_type": "stream",
     "text": [
      "[0.3155769  0.19970049 0.25314766 ... 0.26883796 0.51183486 0.16608733]\n",
      "[0 0 0 ... 0 1 0]\n"
     ]
    }
   ],
   "source": [
    "#print the predictions\n",
    "pred2 = xgb.predict(xtest)\n",
    "print(pred2)\n",
    "#print the actual values\n",
    "pred2_y=ytest.values\n",
    "print(pred2_y)"
   ]
  },
  {
   "cell_type": "code",
   "execution_count": 17,
   "metadata": {},
   "outputs": [
    {
     "name": "stdout",
     "output_type": "stream",
     "text": [
      "              precision    recall  f1-score   support\n",
      "\n",
      "           0       0.98      0.91      0.95       732\n",
      "           1       0.82      0.96      0.88       303\n",
      "\n",
      "    accuracy                           0.93      1035\n",
      "   macro avg       0.90      0.94      0.92      1035\n",
      "weighted avg       0.93      0.93      0.93      1035\n",
      "\n",
      "\n",
      "Confusion Matrix 2: \n",
      " [[669  63]\n",
      " [ 13 290]]\n",
      "Accuracy 2: \n",
      " 92.65700483091788\n"
     ]
    }
   ],
   "source": [
    "# Evaluating the model on the testing data set--->XG Boost Classifier\n",
    "from sklearn.metrics import classification_report, confusion_matrix, accuracy_score\n",
    "cm2 = confusion_matrix(ytest, pred2 > 0.5, labels=[0, 1])\n",
    "print(classification_report(ytest, (pred2>0.5)))\n",
    "print()\n",
    "print(\"Confusion Matrix 2: \\n\", cm2)\n",
    "ac2 = accuracy_score(ytest, (pred2>0.5))*100\n",
    "print(\"Accuracy 2: \\n\",ac2)"
   ]
  },
  {
   "cell_type": "code",
   "execution_count": 18,
   "metadata": {},
   "outputs": [],
   "source": [
    "#ALGORITHM-3 : K-NEAREST NEIGHBOURS CLASSIFIER\n",
    "# create and train the KNN Classifier\n",
    "from sklearn.neighbors import KNeighborsClassifier\n",
    "kNN=KNeighborsClassifier().fit(xtrain,ytrain)"
   ]
  },
  {
   "cell_type": "code",
   "execution_count": 19,
   "metadata": {},
   "outputs": [
    {
     "name": "stdout",
     "output_type": "stream",
     "text": [
      "[1 0 0 ... 0 1 0]\n",
      "[0 0 0 ... 0 1 0]\n",
      "              precision    recall  f1-score   support\n",
      "\n",
      "           0       0.98      0.74      0.84       732\n",
      "           1       0.60      0.96      0.74       303\n",
      "\n",
      "    accuracy                           0.80      1035\n",
      "   macro avg       0.79      0.85      0.79      1035\n",
      "weighted avg       0.87      0.80      0.81      1035\n",
      "\n",
      "\n",
      "Confusion Matrix 3: \n",
      " [[541 191]\n",
      " [ 11 292]]\n",
      "Accuracy 2: \n",
      " 80.4830917874396\n"
     ]
    }
   ],
   "source": [
    "#print the predictions\n",
    "pred3=kNN.predict(xtest)\n",
    "print(pred3)\n",
    "#print the actual values\n",
    "pred3_y=ytest.values\n",
    "print(pred3_y)\n",
    "# Evaluating the model on the testing data set--->KNN Classifier\n",
    "from sklearn.metrics import classification_report, confusion_matrix, accuracy_score\n",
    "cm3 = confusion_matrix(ytest, pred3 > 0.5, labels=[0, 1])\n",
    "print(classification_report(ytest, (pred3>0.5)))\n",
    "print()\n",
    "print(\"Confusion Matrix 3: \\n\", cm3)\n",
    "ac3 = accuracy_score(ytest, (pred3>0.5))*100\n",
    "print(\"Accuracy 2: \\n\",ac3)"
   ]
  },
  {
   "cell_type": "code",
   "execution_count": 20,
   "metadata": {},
   "outputs": [
    {
     "data": {
      "image/png": "[encoded data removed]",
      "text/plain": [
       "<Figure size 864x288 with 3 Axes>"
      ]
     },
     "metadata": {
      "needs_background": "light"
     },
     "output_type": "display_data"
    }
   ],
   "source": [
    "#Illustration and comparision between confusion matrices of all Classifiers\n",
    "import seaborn as sn\n",
    "import matplotlib.pyplot as mp\n",
    "fig, axn = mp.subplots(1,3, sharex=True, sharey=True,figsize=(12,4))\n",
    "sn.set(font_scale=1)\n",
    "df1 = pd.DataFrame(cm1, range(2), range(2))\n",
    "df2 = pd.DataFrame(cm2, range(2), range(2))\n",
    "df3 = pd.DataFrame(cm3, range(2), range(2))\n",
    "cm_list=[df1,df2,df3]\n",
    "label=[\"Confusion Matrix 1\",\"Confusion Matrix 2\",\"Confusion Matrix 3\"]\n",
    "for i, ax in enumerate(axn.flat):\n",
    "    sn.heatmap(cm_list[i],annot=True,ax=ax,cbar=i==4,fmt='d')\n",
    "    ax.set_title(label[i],fontsize=10)"
   ]
  },
  {
   "cell_type": "code",
   "execution_count": 23,
   "metadata": {},
   "outputs": [
    {
     "name": "stdout",
     "output_type": "stream",
     "text": [
      "       Name      Score\n",
      "0  Multi-NB  97.198068\n",
      "1       XGB  92.657005\n",
      "2       KNN  80.483092\n"
     ]
    }
   ],
   "source": [
    "labels=[\"Multi-NB\",\"XGB\",\"KNN\"]\n",
    "values=[ac1,ac2,ac3]\n",
    "AccuracyDF= pd.DataFrame({'Name': labels, 'Score': values})\n",
    "print(AccuracyDF)"
   ]
  },
  {
   "cell_type": "code",
   "execution_count": 24,
   "metadata": {},
   "outputs": [
    {
     "data": {
      "image/png": "[encoded data removed]",
      "text/plain": [
       "<Figure size 432x288 with 1 Axes>"
      ]
     },
     "metadata": {},
     "output_type": "display_data"
    },
    {
     "data": {
      "image/png": "[encoded data removed]",
      "text/plain": [
       "<Figure size 432x288 with 1 Axes>"
      ]
     },
     "metadata": {},
     "output_type": "display_data"
    }
   ],
   "source": [
    "#Comparision between Accuracy of all Classifiers using Barchart and Piechart\n",
    "sn.barplot(x=labels,y=values).set_title(\"Accuracy Comparision Using Bar Plots\")\n",
    "mp.show()\n",
    "colors = sn.color_palette('pastel')\n",
    "explode=[0.1,0,0]\n",
    "mp.pie(values, labels=labels,colors = colors,explode=explode,autopct = '%0.0f%%')\n",
    "mp.title(\"Accuracy Comparision Using Pie Plots\")\n",
    "mp.show()"
   ]
  },
  {
   "cell_type": "code",
   "execution_count": null,
   "metadata": {},
   "outputs": [],
   "source": []
  }
 ],
 "metadata": {
  "colab": {
   "collapsed_sections": [],
   "name": "email spam detection.ipynb",
   "provenance": []
  },
  "kernelspec": {
   "display_name": "Python 3 (ipykernel)",
   "language": "python",
   "name": "python3"
  },
  "language_info": {
   "codemirror_mode": {
    "name": "ipython",
    "version": 3
   },
   "file_extension": ".py",
   "mimetype": "text/x-python",
   "name": "python",
   "nbconvert_exporter": "python",
   "pygments_lexer": "ipython3",
   "version": "3.9.1"
  }
 },
 "nbformat": 4,
 "nbformat_minor": 1
}
